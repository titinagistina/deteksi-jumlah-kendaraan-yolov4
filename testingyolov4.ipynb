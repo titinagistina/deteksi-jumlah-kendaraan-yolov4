{
 "cells": [
  {
   "cell_type": "code",
   "execution_count": 1,
   "id": "bbaa34e9-751e-4822-b432-a189173c74e1",
   "metadata": {},
   "outputs": [
    {
     "name": "stdout",
     "output_type": "stream",
     "text": [
      "Note: you may need to restart the kernel to use updated packages.Requirement already satisfied: opencv-python in c:\\users\\acer\\anaconda3\\lib\\site-packages (4.7.0.72)\n",
      "Requirement already satisfied: numpy>=1.17.3 in c:\\users\\acer\\anaconda3\\lib\\site-packages (from opencv-python) (1.23.5)\n",
      "\n"
     ]
    }
   ],
   "source": [
    "pip install opencv-python"
   ]
  },
  {
   "cell_type": "code",
   "execution_count": null,
   "id": "6b6f6565-ec0e-4635-8199-5a10a8aa6152",
   "metadata": {},
   "outputs": [],
   "source": [
    "!pip show opencv-python\n",
    "!pip show numpy\n",
    "!pip install --upgrade opencv-python"
   ]
  },
  {
   "cell_type": "code",
   "execution_count": null,
   "id": "27396306-d866-4460-b1e3-27f9c36db3cc",
   "metadata": {},
   "outputs": [],
   "source": [
    "import cv2\n",
    "import numpy as np"
   ]
  },
  {
   "cell_type": "code",
   "execution_count": null,
   "id": "dd1e4d1a-dc90-47f2-8df3-a64f485aef6b",
   "metadata": {},
   "outputs": [],
   "source": [
    "with open('obj.names', 'r') as f:\n",
    "    classes = f.read().splitlines()\n",
    "\n",
    "net = cv2.dnn.readNetFromDarknet('yolov4-obj.cfg', 'yolov4-obj_last.weights')\n",
    "\n",
    "model = cv2.dnn_DetectionModel(net)\n",
    "model.setInputParams(scale=1 / 255, size=(416, 416), swapRB=True)\n",
    "\n",
    "cap = cv2.VideoCapture('video.mp4')\n",
    "\n",
    "if not cap.isOpened():\n",
    "    raise IOError(\"Cannot open webcam\")\n",
    "\n",
    "while True:\n",
    "    ret, img = cap.read()\n",
    "    \n",
    "    if not ret:\n",
    "        break\n",
    "\n",
    "    classIds, scores, boxes = model.detect(img, confThreshold=0.6, nmsThreshold=0.4)  \n",
    "    \n",
    "    print(classIds)\n",
    "    \n",
    "    truk = 0\n",
    "    mobil = 0\n",
    "    motor = 0\n",
    "    \n",
    "    for (classId, score, box) in zip(classIds, scores, boxes):\n",
    "        cv2.rectangle(img, (box[0], box[1]), (box[0] + box[2], box[1] + box[3]),\n",
    "                    color=(0, 255, 0), thickness=2)\n",
    "        \n",
    "        if classId == 0:\n",
    "            truk+= 1\n",
    "        elif classId == 1:\n",
    "            mobil+= 1\n",
    "        elif classId == 2:\n",
    "            motor+= 1\n",
    "            \n",
    "        text = classes[classId]\n",
    "        cv2.putText(img, text, (box[0], box[1] - 5), cv2.FONT_HERSHEY_SIMPLEX, 1,\n",
    "                    color=(0, 255, 0), thickness=2)\n",
    "        \n",
    "    # Tampilkan jumlah kendaraan pada frame video\n",
    "    cv2.putText(img, f\"Jumlah truk: {truk}\", (10, 30),\n",
    "                cv2.FONT_HERSHEY_SIMPLEX, 0.8, (0, 255, 0), 2)\n",
    "    cv2.putText(img, f\"Jumlah mobil: {mobil}\", (10, 60),\n",
    "                cv2.FONT_HERSHEY_SIMPLEX, 0.8, (0, 255, 0), 2)\n",
    "    cv2.putText(img, f\"Jumlah motor: {motor}\", (10, 90),\n",
    "                cv2.FONT_HERSHEY_SIMPLEX, 0.8, (0, 255, 0), 2)\n",
    "    \n",
    "    #frame = cv2.resize(frame, None, interpolation=cv2.INTER_AREA)\n",
    "    cv2.imshow('cam', img)\n",
    "\n",
    "    if cv2.waitKey(1) & 0xFF == 27:\n",
    "        break\n",
    "    \n",
    "cap.release()\n",
    "cv2.destroyAllWindows()"
   ]
  }
 ],
 "metadata": {
  "kernelspec": {
   "display_name": "Python 3 (ipykernel)",
   "language": "python",
   "name": "python3"
  },
  "language_info": {
   "codemirror_mode": {
    "name": "ipython",
    "version": 3
   },
   "file_extension": ".py",
   "mimetype": "text/x-python",
   "name": "python",
   "nbconvert_exporter": "python",
   "pygments_lexer": "ipython3",
   "version": "3.10.9"
  }
 },
 "nbformat": 4,
 "nbformat_minor": 5
}
